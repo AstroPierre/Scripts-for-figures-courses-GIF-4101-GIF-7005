{
 "cells": [
  {
   "cell_type": "markdown",
   "metadata": {},
   "source": [
    "# Example of Multidimensional Scaling used for predicting city positions based on intercity distances.\n",
    "\n",
    "Multidimensional scaling (MDS) is a very interesting method that can be used to predict the components X of a series\n",
    "of observations for which we only have a measure of dissimilarity (or distance) between them. This can \n",
    "be seen as the opposite of dimensionality reduction where we start from a dataset X with n observations with m features\n",
    "and reduce it to a new dataset with the same number of observations but with less features this time m'<m. When using \n",
    "MDS, we start with a dissimilarity/distance matrix nxn and obtain a dataset X of dimensions nxm. The \n",
    "true number of hidden/latent dimensions m is unknown but we can use principal component analysis (PCA) to figure it out.\n",
    "\n",
    "In this script, we use a dataset of latitudes and longitudes of north american cities to compute the great-circle \n",
    "distance between any of them on the Earth. Those distances are closer to flight distances than driving distances \n",
    "which are subject to geographic and terrain constraints. Next, we use MDS to predict the city positions individually \n",
    "and assess the effect of Earth's curvature on the results. This is a classic and impressive example of the methods \n",
    "and one of the easiest to understand.\n",
    "\n",
    "MDS is also popular in marketing. For instance we can ask a lot of consumers to evaluate the similarity between \n",
    "different products and take the average rating for each pair of products. Next, we use MDS and PCA to generate\n",
    "the dataset X of dimensions nxm where n is the number of products and m is the number of features. This number of \n",
    "features is crucial because it is a measure of the number of criteria that we use when making jugmental decisions \n",
    "about those products! Understanding the nature of those features is of interest to marketers and psychologists alike. \n",
    "Cluster analysis can also be applied to the extracted dataset X to do market segmentation! \n",
    "\n",
    "Both examples are interesting and unrelated. They reveal the usefulness and the relevance of MDS in modern data exploration.\n",
    "  "
   ]
  },
  {
   "cell_type": "code",
   "execution_count": 1,
   "metadata": {},
   "outputs": [
    {
     "name": "stdout",
     "output_type": "stream",
     "text": [
      "Automatically created module for IPython interactive environment\n"
     ]
    }
   ],
   "source": [
    "print(__doc__)\n",
    "\n",
    "# Author: Pierre Gravel <pierre.gravel@iid.ulaval.ca>\n",
    "# License: BSD\n",
    "\n",
    "%matplotlib inline\n",
    "\n",
    "import os\n",
    "import numpy as np\n",
    "import pandas as pd\n",
    "\n",
    "import matplotlib.pyplot as plt\n",
    "\n",
    "from sklearn.preprocessing import StandardScaler\n",
    "from sklearn.decomposition import PCA\n",
    "from sklearn.manifold import MDS\n",
    "from math import cos, asin, sqrt, pi\n",
    "\n",
    "import seaborn as sns\n",
    "sns.set(color_codes=True)\n",
    "\n",
    "# Used for reproductibility of the results\n",
    "np.random.seed(43)"
   ]
  },
  {
   "cell_type": "markdown",
   "metadata": {},
   "source": [
    "## Read the dataset\n",
    "\n",
    "The file \"sgb128_dms.txt\" contains the longitudes and the latitudes of 128 US and canadian cities.\n",
    "\n",
    "It can be downloaded from the CITIES dataset directory which contains files with various intercity distances:\n",
    "https://people.sc.fsu.edu/~jburkardt/datasets/cities/cities.html\n",
    "    "
   ]
  },
  {
   "cell_type": "code",
   "execution_count": 2,
   "metadata": {},
   "outputs": [],
   "source": [
    "file = open(\"sgb128_dms.txt\", \"r\")\n",
    "list = file.readlines()\n",
    "file.close()\n",
    "\n",
    "# Skip the header\n",
    "list = list[7:]\n",
    "\n",
    "# Remove empty spaces\n",
    "list2 = []\n",
    "for line in list:\n",
    "    list2.extend(line.split())\n",
    "\n",
    "# Remove North and West symbols for longitude\n",
    "list2 = [list2[i] for i, j in enumerate(list2) if not (j == 'W' or j=='N')]\n",
    "\n",
    "# Reshape into an 128 x 6 array (Latitude, Longitude in degrees, minutes, seconds)\n",
    "P = np.array(list2).reshape((128,6))\n",
    "P = P.astype(np.float32)\n",
    "\n",
    "# Convert latitudes and longitudes into degrees\n",
    "lat = P[:,0] + P[:,1]/60. + P[:,2]/3600.\n",
    "long = P[:,3] + P[:,4]/60. + P[:,5]/3600.\n",
    "\n",
    "# Convert latitudes and longitudes into radians\n",
    "deg_to_rad = pi/180\n",
    "lat = lat * deg_to_rad\n",
    "long = long * deg_to_rad"
   ]
  },
  {
   "cell_type": "markdown",
   "metadata": {},
   "source": [
    "## Compute the intercity distances (in km) based on their latitudes and longitudes \n",
    "\n",
    "The following function computes the great-circle distance between two points on a sphere given their longitudes and latitudes. \n",
    "This is the minimum distance between each city and not the actual driving distance. \n",
    "\n",
    "The distance is computed using the Haversine formula. More information can be found at https://en.wikipedia.org/wiki/Haversine_formula\n"
   ]
  },
  {
   "cell_type": "code",
   "execution_count": 3,
   "metadata": {},
   "outputs": [],
   "source": [
    "def distance(lat1, long1, lat2, long2, R):\n",
    "    return 2*R*asin(sqrt( hav(lat2-lat1) + cos(lat1)*cos(lat2)*hav(long2-long1) )) \n",
    "\n",
    "def hav(theta):\n",
    "    return (1.-cos(theta))/2"
   ]
  },
  {
   "cell_type": "markdown",
   "metadata": {},
   "source": [
    "## Compute the distance matrix"
   ]
  },
  {
   "cell_type": "code",
   "execution_count": 4,
   "metadata": {},
   "outputs": [
    {
     "name": "stdout",
     "output_type": "stream",
     "text": [
      "\n",
      "Minimum distance: 33 km\n",
      "Maximum distance: 4442 km\n"
     ]
    }
   ],
   "source": [
    "# Earth radius in km.  Use R = 3960 to get the distances in miles\n",
    "R = 6370  \n",
    "D_sph = np.zeros((128, 128))\n",
    "for i in range(128):\n",
    "    for j in range(i+1,128):\n",
    "        D_sph[i,j] = distance(lat[i], long[i], lat[j], long[j], R)\n",
    "        D_sph[j,i] = D_sph[i,j] \n",
    "\n",
    "\n",
    "print('\\nMinimum distance: %d km' % np.min(D_sph[D_sph>1]))\n",
    "print('Maximum distance: %d km' % np.max(D_sph))"
   ]
  },
  {
   "cell_type": "markdown",
   "metadata": {},
   "source": [
    "## Apply MDS to the distance matrix to get city coordinates in 10 dimensions\n",
    "\n",
    "Now that we have the distance matrix, we can use multidimensional scaling to generate \n",
    "the individual city positions. In many MDS applications, we do not know the number of \n",
    "underlying dimensions of the data X. We only know the dissimilarities between them. \n",
    "\n",
    "In this script, the X data are the city positions and the dissimilarities are the intercity distances. \n",
    "We expect the number of latent (hidden) dimensions to be 2 or 3. In what follows, we will \n",
    "use a larger number of dimensions and then rely on PCA to tell us what the true number is."
   ]
  },
  {
   "cell_type": "code",
   "execution_count": 5,
   "metadata": {},
   "outputs": [
    {
     "name": "stdout",
     "output_type": "stream",
     "text": [
      "(128, 10)\n"
     ]
    }
   ],
   "source": [
    "embedding = MDS(n_components=10, metric=True, dissimilarity='precomputed')\n",
    "X = embedding.fit_transform(D_sph)\n",
    "\n",
    "# The X data is an array of 128 x 10  (128 cities and 10 dimensions)\n",
    "print(X.shape)"
   ]
  },
  {
   "cell_type": "markdown",
   "metadata": {},
   "source": [
    "## PCA transformation\n",
    "\n",
    "N.B. We will not normalise the X data before computing the PCA transformation \n",
    "because we want to have final city coordinates in km rather than in normalised units!"
   ]
  },
  {
   "cell_type": "code",
   "execution_count": 6,
   "metadata": {},
   "outputs": [],
   "source": [
    "pca = PCA()\n",
    "pca.fit(X);\n"
   ]
  },
  {
   "cell_type": "markdown",
   "metadata": {},
   "source": [
    "### Print the scree plot\n",
    "\n",
    "The first two eigenvalues stand out but a third one is just above the baseline. Hence, even though the X \n",
    "data lies in 3-D, the third dimension has a negligible effect in the analysis. Although the cities sit on \n",
    "the 3-D surface of the Earth, their north american distribution stretches over a small area on the Earth surface. \n",
    "The local curvature effects are small and the city positions are almost in 2D. Airline pilots can see Earth curvature \n",
    "but, as far as land distances are concerned, the curvature effect can be neglected as a first approximation.\n"
   ]
  },
  {
   "cell_type": "code",
   "execution_count": 7,
   "metadata": {},
   "outputs": [
    {
     "data": {
      "image/png": "[encoded data removed]",
      "text/plain": [
       "<Figure size 720x720 with 1 Axes>"
      ]
     },
     "metadata": {},
     "output_type": "display_data"
    }
   ],
   "source": [
    "n = np.arange(1,11)\n",
    "fig, ax = plt.subplots(figsize = (10, 10))\n",
    "ax.plot(n, pca.singular_values_)\n",
    "ax.scatter(n, pca.singular_values_, c = 'k', marker = '*', s=60)\n",
    "ax.set_xlabel('Number of dimensions', fontsize=22)\n",
    "ax.set_ylabel('$\\lambda$', fontsize=22, rotation=0)\n",
    "\n",
    "plt.savefig('13.4.1_Scree_plot_for_city_distances.png')\n",
    "plt.savefig('13.4.1_Scree_plot_for_city_distances.pdf')"
   ]
  },
  {
   "cell_type": "markdown",
   "metadata": {},
   "source": [
    "### Keep the first two principal components\n",
    "\n",
    "Let us compute the PCA transform of the X data and keep only the first two principal components."
   ]
  },
  {
   "cell_type": "code",
   "execution_count": 8,
   "metadata": {},
   "outputs": [],
   "source": [
    "# Principal component analysis with only 2 components\n",
    "clf = PCA(n_components=2)\n",
    "Z = clf.fit_transform(X)\n",
    "\n",
    "# The sign of each principal component is arbitrary. They remain uncorrelated if their signs are changed.\n",
    "# We change their signs to generate a figure with the proper orientation.\n",
    "Z = -Z\n"
   ]
  },
  {
   "cell_type": "markdown",
   "metadata": {},
   "source": [
    "## Display the city positions using principal components\n",
    "\n",
    "The point distribution in the next figure shows very well the outline of the mainland USA. The three yellow dots \n",
    "correpond to the canadian cities of Vancouver, Winnipeg and Toronto from left to right (west to east). They are \n",
    "located above latitude $49^{o}$. "
   ]
  },
  {
   "cell_type": "code",
   "execution_count": 9,
   "metadata": {},
   "outputs": [
    {
     "data": {
      "image/png": "[encoded data removed]",
      "text/plain": [
       "<Figure size 720x720 with 1 Axes>"
      ]
     },
     "metadata": {},
     "output_type": "display_data"
    }
   ],
   "source": [
    "# Identify canadian cities. \n",
    "canada = lat>=49*deg_to_rad\n",
    "usa = lat<49*deg_to_rad\n",
    "\n",
    "sns.set_style('white')\n",
    "fig, ax = plt.subplots(figsize = (10, 10))\n",
    "ax.scatter(Z[canada,0],Z[canada,1], c='yellow', s=50, edgecolors='k', label='Canada')\n",
    "ax.scatter(Z[usa,0],Z[usa,1], c='dodgerblue', s=50, edgecolors='k', label='USA')\n",
    "ax.set_xlabel('$z_{1}$  (km)', fontsize=18)\n",
    "ax.set_ylabel('$z_{2}$  (km)', fontsize=18)\n",
    "ax.legend()\n",
    "ax.axis('equal')\n",
    "ax.grid(alpha=0.5)\n",
    "\n",
    "plt.savefig('13.4.2_City_positions_from_MDS.png')\n",
    "plt.savefig('13.4.2_City_positions_from_MDS.pdf')"
   ]
  }
 ],
 "metadata": {
  "kernelspec": {
   "display_name": "Python 3",
   "language": "python",
   "name": "python3"
  },
  "language_info": {
   "codemirror_mode": {
    "name": "ipython",
    "version": 3
   },
   "file_extension": ".py",
   "mimetype": "text/x-python",
   "name": "python",
   "nbconvert_exporter": "python",
   "pygments_lexer": "ipython3",
   "version": "3.7.6"
  }
 },
 "nbformat": 4,
 "nbformat_minor": 4
}
